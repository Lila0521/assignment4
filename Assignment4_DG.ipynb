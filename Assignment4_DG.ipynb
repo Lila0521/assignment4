{
 "cells": [
  {
   "cell_type": "markdown",
   "metadata": {},
   "source": [
    "# Assignment 4\n",
    "\n",
    "Before working on this assignment please read these instructions fully. In the submission area, you will notice that you can click the link to **Preview the Grading** for each step of the assignment. This is the criteria that will be used for peer grading. Please familiarize yourself with the criteria before beginning the assignment.\n",
    "\n",
    "This assignment requires that you to find **at least** two datasets on the web which are related, and that you visualize these datasets to answer a question with the broad topic of **weather phenomena** (see below) for the region of **Ljubljana, Ljubljana, Slovenia**, or **Slovenia** more broadly.\n",
    "\n",
    "You can merge these datasets with data from different regions if you like! For instance, you might want to compare **Ljubljana, Ljubljana, Slovenia** to Ann Arbor, USA. In that case at least one source file must be about **Ljubljana, Ljubljana, Slovenia**.\n",
    "\n",
    "You are welcome to choose datasets at your discretion, but keep in mind **they will be shared with your peers**, so choose appropriate datasets. Sensitive, confidential, illicit, and proprietary materials are not good choices for datasets for this assignment. You are welcome to upload datasets of your own as well, and link to them using a third party repository such as github, bitbucket, pastebin, etc. Please be aware of the Coursera terms of service with respect to intellectual property.\n",
    "\n",
    "Also, you are welcome to preserve data in its original language, but for the purposes of grading you should provide english translations. You are welcome to provide multiple visuals in different languages if you would like!\n",
    "\n",
    "As this assignment is for the whole course, you must incorporate principles discussed in the first week, such as having as high data-ink ratio (Tufte) and aligning with Cairo’s principles of truth, beauty, function, and insight.\n",
    "\n",
    "Here are the assignment instructions:\n",
    "\n",
    " * State the region and the domain category that your data sets are about (e.g., **Ljubljana, Ljubljana, Slovenia** and **weather phenomena**).\n",
    " * You must state a question about the domain category and region that you identified as being interesting.\n",
    " * You must provide at least two links to available datasets. These could be links to files such as CSV or Excel files, or links to websites which might have data in tabular form, such as Wikipedia pages.\n",
    " * You must upload an image which addresses the research question you stated. In addition to addressing the question, this visual should follow Cairo's principles of truthfulness, functionality, beauty, and insightfulness.\n",
    " * You must contribute a short (1-2 paragraph) written justification of how your visualization addresses your stated research question.\n",
    "\n",
    "What do we mean by **weather phenomena**?  For this category you might want to consider seasonal changes, natural disasters, or historical trends.\n",
    "\n",
    "## Tips\n",
    "* Wikipedia is an excellent source of data, and I strongly encourage you to explore it for new data sources.\n",
    "* Many governments run open data initiatives at the city, region, and country levels, and these are wonderful resources for localized data sources.\n",
    "* Several international agencies, such as the [United Nations](http://data.un.org/), the [World Bank](http://data.worldbank.org/), the [Global Open Data Index](http://index.okfn.org/place/) are other great places to look for data.\n",
    "* This assignment requires you to convert and clean datafiles. Check out the discussion forums for tips on how to do this from various sources, and share your successes with your fellow students!\n",
    "\n",
    "## Example\n",
    "Looking for an example? Here's what our course assistant put together for the **Ann Arbor, MI, USA** area using **sports and athletics** as the topic. [Example Solution File](./readonly/Assignment4_example.pdf)"
   ]
  },
  {
   "cell_type": "code",
   "execution_count": 2,
   "metadata": {},
   "outputs": [],
   "source": [
    "import pandas as pd\n",
    "import numpy as np\n",
    "import matplotlib.pyplot as plt\n",
    "\n",
    "%matplotlib notebook"
   ]
  },
  {
   "cell_type": "code",
   "execution_count": 3,
   "metadata": {},
   "outputs": [],
   "source": [
    "data_lj = pd.read_csv('data_lj.csv',header=0)\n",
    "data_ann_arbor = pd.read_csv('data_ann_arbor.csv', header = 0)"
   ]
  },
  {
   "cell_type": "code",
   "execution_count": 14,
   "metadata": {},
   "outputs": [],
   "source": [
    "import datetime as dt\n",
    "\n",
    "data_lj['period_datetime'] = pd.to_datetime(data_lj['Period'], format='%Y-%m-%dT%H:%M:%S')\n",
    "data_lj['date'] = pd.to_datetime(data_lj['period_datetime']).dt.to_period('D')\n",
    "\n",
    "data_lj_final = data_lj[['date', 'Temperature', 'Wind Speed Mean']]"
   ]
  },
  {
   "cell_type": "code",
   "execution_count": null,
   "metadata": {},
   "outputs": [],
   "source": []
  },
  {
   "cell_type": "code",
   "execution_count": 16,
   "metadata": {},
   "outputs": [],
   "source": [
    "data_ann_arbor['period_datetime'] = pd.to_datetime(data_ann_arbor['Period'], format='%Y-%m-%dT%H:%M:%S')\n",
    "data_ann_arbor['date'] = pd.to_datetime(data_ann_arbor['period_datetime']).dt.to_period('D')\n",
    "data_ann_arbor_final = data_ann_arbor[['date', 'Temperature', 'Wind Speed Mean']]"
   ]
  },
  {
   "cell_type": "code",
   "execution_count": null,
   "metadata": {},
   "outputs": [],
   "source": []
  },
  {
   "cell_type": "code",
   "execution_count": 19,
   "metadata": {},
   "outputs": [],
   "source": [
    "#merge two datasets\n",
    "final_data = pd.merge(data_lj_final, data_ann_arbor_final, left_on='date', right_on='date', how='inner', suffixes=('_lj','_aa'))"
   ]
  },
  {
   "cell_type": "code",
   "execution_count": 22,
   "metadata": {},
   "outputs": [],
   "source": [
    "final_data.dropna(inplace=True)"
   ]
  },
  {
   "cell_type": "code",
   "execution_count": 26,
   "metadata": {},
   "outputs": [
    {
     "data": {
      "text/html": [
       "<div>\n",
       "<style scoped>\n",
       "    .dataframe tbody tr th:only-of-type {\n",
       "        vertical-align: middle;\n",
       "    }\n",
       "\n",
       "    .dataframe tbody tr th {\n",
       "        vertical-align: top;\n",
       "    }\n",
       "\n",
       "    .dataframe thead th {\n",
       "        text-align: right;\n",
       "    }\n",
       "</style>\n",
       "<table border=\"1\" class=\"dataframe\">\n",
       "  <thead>\n",
       "    <tr style=\"text-align: right;\">\n",
       "      <th></th>\n",
       "      <th>date</th>\n",
       "      <th>Temperature_lj</th>\n",
       "      <th>Wind Speed Mean_lj</th>\n",
       "      <th>Temperature_aa</th>\n",
       "      <th>Wind Speed Mean_aa</th>\n",
       "    </tr>\n",
       "  </thead>\n",
       "  <tbody>\n",
       "    <tr>\n",
       "      <th>0</th>\n",
       "      <td>1989-01-01</td>\n",
       "      <td>27.2</td>\n",
       "      <td>3.4</td>\n",
       "      <td>31.3</td>\n",
       "      <td>13.1</td>\n",
       "    </tr>\n",
       "    <tr>\n",
       "      <th>1</th>\n",
       "      <td>1989-01-02</td>\n",
       "      <td>28.8</td>\n",
       "      <td>2.2</td>\n",
       "      <td>28.1</td>\n",
       "      <td>22.3</td>\n",
       "    </tr>\n",
       "    <tr>\n",
       "      <th>2</th>\n",
       "      <td>1989-01-03</td>\n",
       "      <td>22.5</td>\n",
       "      <td>2.3</td>\n",
       "      <td>22.2</td>\n",
       "      <td>20.0</td>\n",
       "    </tr>\n",
       "    <tr>\n",
       "      <th>3</th>\n",
       "      <td>1989-01-04</td>\n",
       "      <td>24.4</td>\n",
       "      <td>4.7</td>\n",
       "      <td>15.7</td>\n",
       "      <td>17.2</td>\n",
       "    </tr>\n",
       "    <tr>\n",
       "      <th>4</th>\n",
       "      <td>1989-01-05</td>\n",
       "      <td>27.1</td>\n",
       "      <td>11.1</td>\n",
       "      <td>24.4</td>\n",
       "      <td>11.6</td>\n",
       "    </tr>\n",
       "  </tbody>\n",
       "</table>\n",
       "</div>"
      ],
      "text/plain": [
       "        date  Temperature_lj  Wind Speed Mean_lj  Temperature_aa  \\\n",
       "0 1989-01-01            27.2                 3.4            31.3   \n",
       "1 1989-01-02            28.8                 2.2            28.1   \n",
       "2 1989-01-03            22.5                 2.3            22.2   \n",
       "3 1989-01-04            24.4                 4.7            15.7   \n",
       "4 1989-01-05            27.1                11.1            24.4   \n",
       "\n",
       "   Wind Speed Mean_aa  \n",
       "0                13.1  \n",
       "1                22.3  \n",
       "2                20.0  \n",
       "3                17.2  \n",
       "4                11.6  "
      ]
     },
     "execution_count": 26,
     "metadata": {},
     "output_type": "execute_result"
    }
   ],
   "source": [
    "final_data.head()"
   ]
  },
  {
   "cell_type": "markdown",
   "metadata": {},
   "source": [
    "## Question:\n",
    "Are temperatures in ljubljana in general higher, lower or equal as those in Ann Arbor"
   ]
  },
  {
   "cell_type": "code",
   "execution_count": 25,
   "metadata": {},
   "outputs": [],
   "source": [
    "import seaborn as sns"
   ]
  },
  {
   "cell_type": "code",
   "execution_count": 35,
   "metadata": {},
   "outputs": [
    {
     "data": {
      "text/plain": [
       "Text(27.125,0.5,'Ann Arbor temperature in F')"
      ]
     },
     "execution_count": 35,
     "metadata": {},
     "output_type": "execute_result"
    },
    {
     "data": {
      "image/png": "[encoded data removed]",
      "text/plain": [
       "<Figure size 432x432 with 3 Axes>"
      ]
     },
     "metadata": {
      "needs_background": "light"
     },
     "output_type": "display_data"
    }
   ],
   "source": [
    "grid = sns.jointplot(final_data['Temperature_lj'], final_data['Temperature_aa'], kind='kde', space=0)\n",
    "\n",
    "grid.ax_joint.set_aspect('equal')\n",
    "grid.ax_joint.plot([0,90], [0,90], 'b-')\n",
    "grid.ax_joint.set_xlabel('Ljubljana temperature in F')\n",
    "grid.ax_joint.set_ylabel('Ann Arbor temperature in F')"
   ]
  },
  {
   "cell_type": "markdown",
   "metadata": {},
   "source": [
    "In the image above we have temperatures in Ljubljana ploted against those in Ann Arbor in the form of 2D density estimation. Also, the identity line is plotted for better visual display of difference bettwen temperatures. We can see that the temperatures are in general approximately equal. It seems though that during the winter, the temperatures in Ljubljana seem to be higher than those in Ann Arbor."
   ]
  },
  {
   "cell_type": "code",
   "execution_count": null,
   "metadata": {},
   "outputs": [],
   "source": []
  }
 ],
 "metadata": {
  "kernelspec": {
   "display_name": "Python 3",
   "language": "python",
   "name": "python3"
  },
  "language_info": {
   "codemirror_mode": {
    "name": "ipython",
    "version": 3
   },
   "file_extension": ".py",
   "mimetype": "text/x-python",
   "name": "python",
   "nbconvert_exporter": "python",
   "pygments_lexer": "ipython3",
   "version": "3.7.0"
  }
 },
 "nbformat": 4,
 "nbformat_minor": 2
}
